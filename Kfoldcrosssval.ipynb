{
  "metadata": {
    "kernelspec": {
      "name": "python",
      "display_name": "Python (Pyodide)",
      "language": "python"
    },
    "language_info": {
      "codemirror_mode": {
        "name": "python",
        "version": 3
      },
      "file_extension": ".py",
      "mimetype": "text/x-python",
      "name": "python",
      "nbconvert_exporter": "python",
      "pygments_lexer": "ipython3",
      "version": "3.8"
    }
  },
  "nbformat_minor": 5,
  "nbformat": 4,
  "cells": [
    {
      "id": "fc137e03-a297-48cb-a44c-7a3745c895c2",
      "cell_type": "code",
      "source": "from sklearn.linear_model import LogisticRegression\nfrom sklearn.svm import SVC\nfrom sklearn.ensemble import RandomForestClassifier\nimport numpy as np\nfrom sklearn.datasets import load_digits\nimport pandas as pd\n\ndigits=load_digits()",
      "metadata": {
        "trusted": true
      },
      "outputs": [],
      "execution_count": 4
    },
    {
      "id": "c2940c82-3bdc-467f-8a10-19fe2cc477bf",
      "cell_type": "code",
      "source": "from sklearn.model_selection import train_test_split\nX_train,X_test,Y_train,Y_test=train_test_split(digits.data,digits.target,test_size=0.3)\n",
      "metadata": {
        "trusted": true
      },
      "outputs": [],
      "execution_count": 18
    },
    {
      "id": "826d231d-1cd2-4ba7-9fe5-08559c838ec1",
      "cell_type": "code",
      "source": "lr=LogisticRegression()\nlr.fit(X_train,Y_train)\nlr.score(X_train,Y_train)",
      "metadata": {
        "trusted": true
      },
      "outputs": [
        {
          "name": "stderr",
          "output_type": "stream",
          "text": "/lib/python3.12/site-packages/sklearn/linear_model/_logistic.py:469: ConvergenceWarning: lbfgs failed to converge (status=1):\nSTOP: TOTAL NO. of ITERATIONS REACHED LIMIT.\n\nIncrease the number of iterations (max_iter) or scale the data as shown in:\n    https://scikit-learn.org/stable/modules/preprocessing.html\nPlease also refer to the documentation for alternative solver options:\n    https://scikit-learn.org/stable/modules/linear_model.html#logistic-regression\n  n_iter_i = _check_optimize_result(\n"
        },
        {
          "execution_count": 19,
          "output_type": "execute_result",
          "data": {
            "text/plain": "1.0"
          },
          "metadata": {}
        }
      ],
      "execution_count": 19
    },
    {
      "id": "1abff55e-2e2c-444c-a13a-92c327a11484",
      "cell_type": "code",
      "source": "svm=SVC()\nsvm.fit(X_train,Y_train)\nsvm.score(X_train,Y_train)",
      "metadata": {
        "trusted": true
      },
      "outputs": [
        {
          "execution_count": 20,
          "output_type": "execute_result",
          "data": {
            "text/plain": "0.9976133651551312"
          },
          "metadata": {}
        }
      ],
      "execution_count": 20
    },
    {
      "id": "a0522e98-27f5-4e67-885e-67aa63e3f797",
      "cell_type": "code",
      "source": "rf=RandomForestClassifier(n_estimators=40)\nrf.fit(X_train,Y_train)\nrf.score(X_train,Y_train)\n\n",
      "metadata": {
        "trusted": true
      },
      "outputs": [
        {
          "execution_count": 21,
          "output_type": "execute_result",
          "data": {
            "text/plain": "1.0"
          },
          "metadata": {}
        }
      ],
      "execution_count": 21
    },
    {
      "id": "9b85f1e2-a5a2-43fa-9b76-8ea3d754d384",
      "cell_type": "code",
      "source": "from sklearn.model_selection import KFold\nkf=KFold(n_splits=3)\nkf",
      "metadata": {
        "trusted": true
      },
      "outputs": [
        {
          "execution_count": 22,
          "output_type": "execute_result",
          "data": {
            "text/plain": "KFold(n_splits=3, random_state=None, shuffle=False)"
          },
          "metadata": {}
        }
      ],
      "execution_count": 22
    },
    {
      "id": "0e228f3c-dfe8-48a9-8e76-fae93ca89dd1",
      "cell_type": "code",
      "source": "for train_index,test_index in kf.split([1,2,3,4,5,6,7,8,9]):\n    print(train_index,test_index)",
      "metadata": {
        "trusted": true
      },
      "outputs": [
        {
          "name": "stdout",
          "output_type": "stream",
          "text": "[3 4 5 6 7 8] [0 1 2]\n[0 1 2 6 7 8] [3 4 5]\n[0 1 2 3 4 5] [6 7 8]\n"
        }
      ],
      "execution_count": 23
    },
    {
      "id": "a1090b3c-25ce-4250-8e45-09ef15a31c85",
      "cell_type": "code",
      "source": "def get_score(model,X_train,X_test,Y_train,Y_test):\n    model.fit(X_train,Y_train)\n    return model.score(X_test,Y_test)\n    ",
      "metadata": {
        "trusted": true
      },
      "outputs": [],
      "execution_count": 24
    },
    {
      "id": "615c5342-bacc-4538-80f0-2fdfc23fde91",
      "cell_type": "code",
      "source": "get_score(LogisticRegression(),X_train,X_test,Y_train,Y_test)",
      "metadata": {
        "trusted": true
      },
      "outputs": [
        {
          "name": "stderr",
          "output_type": "stream",
          "text": "/lib/python3.12/site-packages/sklearn/linear_model/_logistic.py:469: ConvergenceWarning: lbfgs failed to converge (status=1):\nSTOP: TOTAL NO. of ITERATIONS REACHED LIMIT.\n\nIncrease the number of iterations (max_iter) or scale the data as shown in:\n    https://scikit-learn.org/stable/modules/preprocessing.html\nPlease also refer to the documentation for alternative solver options:\n    https://scikit-learn.org/stable/modules/linear_model.html#logistic-regression\n  n_iter_i = _check_optimize_result(\n"
        },
        {
          "execution_count": 25,
          "output_type": "execute_result",
          "data": {
            "text/plain": "0.9481481481481482"
          },
          "metadata": {}
        }
      ],
      "execution_count": 25
    },
    {
      "id": "33936b6b-0cb7-4813-b57f-925ede3711a2",
      "cell_type": "code",
      "source": "get_score(SVC(),X_train,X_test,Y_train,Y_test)",
      "metadata": {
        "trusted": true
      },
      "outputs": [
        {
          "execution_count": 26,
          "output_type": "execute_result",
          "data": {
            "text/plain": "0.987037037037037"
          },
          "metadata": {}
        }
      ],
      "execution_count": 26
    },
    {
      "id": "36e9192e-d081-41d1-8b1d-d089da9638c1",
      "cell_type": "code",
      "source": "from sklearn.model_selection import StratifiedKFold\nfolds=StratifiedKFold(n_splits=3)",
      "metadata": {
        "trusted": true
      },
      "outputs": [],
      "execution_count": 27
    },
    {
      "id": "5eefeb28-f05a-4b7f-a754-d2033c11e507",
      "cell_type": "code",
      "source": "scores_l=[]\nscores_svm=[]\nscores_rf=[]\n\nfor train_index,test_index in kf.split(digits.data):\n    X_train,X_test,Y_train,Y_test=digits.data[train_index],digits.data[test_index],digits.target[train_index],digits.target[test_index]\n    scores_l.append(get_score(LogisticRegression(),X_train,X_test,Y_train,Y_test))\n    scores_svm.append(get_score(SVC(),X_train,X_test,Y_train,Y_test))\n    scores_rf.append(get_score(RandomForestClassifier(),X_train,X_test,Y_train,Y_test))",
      "metadata": {
        "trusted": true
      },
      "outputs": [
        {
          "name": "stderr",
          "output_type": "stream",
          "text": "/lib/python3.12/site-packages/sklearn/linear_model/_logistic.py:469: ConvergenceWarning: lbfgs failed to converge (status=1):\nSTOP: TOTAL NO. of ITERATIONS REACHED LIMIT.\n\nIncrease the number of iterations (max_iter) or scale the data as shown in:\n    https://scikit-learn.org/stable/modules/preprocessing.html\nPlease also refer to the documentation for alternative solver options:\n    https://scikit-learn.org/stable/modules/linear_model.html#logistic-regression\n  n_iter_i = _check_optimize_result(\n/lib/python3.12/site-packages/sklearn/linear_model/_logistic.py:469: ConvergenceWarning: lbfgs failed to converge (status=1):\nSTOP: TOTAL NO. of ITERATIONS REACHED LIMIT.\n\nIncrease the number of iterations (max_iter) or scale the data as shown in:\n    https://scikit-learn.org/stable/modules/preprocessing.html\nPlease also refer to the documentation for alternative solver options:\n    https://scikit-learn.org/stable/modules/linear_model.html#logistic-regression\n  n_iter_i = _check_optimize_result(\n/lib/python3.12/site-packages/sklearn/linear_model/_logistic.py:469: ConvergenceWarning: lbfgs failed to converge (status=1):\nSTOP: TOTAL NO. of ITERATIONS REACHED LIMIT.\n\nIncrease the number of iterations (max_iter) or scale the data as shown in:\n    https://scikit-learn.org/stable/modules/preprocessing.html\nPlease also refer to the documentation for alternative solver options:\n    https://scikit-learn.org/stable/modules/linear_model.html#logistic-regression\n  n_iter_i = _check_optimize_result(\n"
        }
      ],
      "execution_count": 29
    },
    {
      "id": "035f214b-3740-48f3-8ae4-67da84690a49",
      "cell_type": "code",
      "source": "scores_l\n",
      "metadata": {
        "trusted": true
      },
      "outputs": [
        {
          "execution_count": 30,
          "output_type": "execute_result",
          "data": {
            "text/plain": "[0.9232053422370617, 0.9415692821368948, 0.9148580968280468]"
          },
          "metadata": {}
        }
      ],
      "execution_count": 30
    },
    {
      "id": "d818a577-34d6-49d8-93f4-3cda193c033e",
      "cell_type": "code",
      "source": "scores_svm",
      "metadata": {
        "trusted": true
      },
      "outputs": [
        {
          "execution_count": 31,
          "output_type": "execute_result",
          "data": {
            "text/plain": "[0.9666110183639399, 0.9816360601001669, 0.9549248747913188]"
          },
          "metadata": {}
        }
      ],
      "execution_count": 31
    },
    {
      "id": "f48690ae-e4f5-456b-b132-7c96864d1bb6",
      "cell_type": "code",
      "source": "scores_rf",
      "metadata": {
        "trusted": true
      },
      "outputs": [
        {
          "execution_count": 32,
          "output_type": "execute_result",
          "data": {
            "text/plain": "[0.9398998330550918, 0.9565943238731218, 0.9248747913188647]"
          },
          "metadata": {}
        }
      ],
      "execution_count": 32
    },
    {
      "id": "eca3e8ad-a639-48b0-a0a7-753b3fe99306",
      "cell_type": "code",
      "source": "from sklearn.model_selection import cross_val_score",
      "metadata": {
        "trusted": true
      },
      "outputs": [],
      "execution_count": 33
    },
    {
      "id": "5bd14f33-93eb-4032-9d42-850ed05a7de5",
      "cell_type": "code",
      "source": "cross_val_score(LogisticRegression(),digits.data,digits.target)",
      "metadata": {
        "trusted": true
      },
      "outputs": [
        {
          "name": "stderr",
          "output_type": "stream",
          "text": "/lib/python3.12/site-packages/sklearn/linear_model/_logistic.py:469: ConvergenceWarning: lbfgs failed to converge (status=1):\nSTOP: TOTAL NO. of ITERATIONS REACHED LIMIT.\n\nIncrease the number of iterations (max_iter) or scale the data as shown in:\n    https://scikit-learn.org/stable/modules/preprocessing.html\nPlease also refer to the documentation for alternative solver options:\n    https://scikit-learn.org/stable/modules/linear_model.html#logistic-regression\n  n_iter_i = _check_optimize_result(\n/lib/python3.12/site-packages/sklearn/linear_model/_logistic.py:469: ConvergenceWarning: lbfgs failed to converge (status=1):\nSTOP: TOTAL NO. of ITERATIONS REACHED LIMIT.\n\nIncrease the number of iterations (max_iter) or scale the data as shown in:\n    https://scikit-learn.org/stable/modules/preprocessing.html\nPlease also refer to the documentation for alternative solver options:\n    https://scikit-learn.org/stable/modules/linear_model.html#logistic-regression\n  n_iter_i = _check_optimize_result(\n/lib/python3.12/site-packages/sklearn/linear_model/_logistic.py:469: ConvergenceWarning: lbfgs failed to converge (status=1):\nSTOP: TOTAL NO. of ITERATIONS REACHED LIMIT.\n\nIncrease the number of iterations (max_iter) or scale the data as shown in:\n    https://scikit-learn.org/stable/modules/preprocessing.html\nPlease also refer to the documentation for alternative solver options:\n    https://scikit-learn.org/stable/modules/linear_model.html#logistic-regression\n  n_iter_i = _check_optimize_result(\n/lib/python3.12/site-packages/sklearn/linear_model/_logistic.py:469: ConvergenceWarning: lbfgs failed to converge (status=1):\nSTOP: TOTAL NO. of ITERATIONS REACHED LIMIT.\n\nIncrease the number of iterations (max_iter) or scale the data as shown in:\n    https://scikit-learn.org/stable/modules/preprocessing.html\nPlease also refer to the documentation for alternative solver options:\n    https://scikit-learn.org/stable/modules/linear_model.html#logistic-regression\n  n_iter_i = _check_optimize_result(\n/lib/python3.12/site-packages/sklearn/linear_model/_logistic.py:469: ConvergenceWarning: lbfgs failed to converge (status=1):\nSTOP: TOTAL NO. of ITERATIONS REACHED LIMIT.\n\nIncrease the number of iterations (max_iter) or scale the data as shown in:\n    https://scikit-learn.org/stable/modules/preprocessing.html\nPlease also refer to the documentation for alternative solver options:\n    https://scikit-learn.org/stable/modules/linear_model.html#logistic-regression\n  n_iter_i = _check_optimize_result(\n"
        },
        {
          "execution_count": 34,
          "output_type": "execute_result",
          "data": {
            "text/plain": "array([0.92222222, 0.86944444, 0.94150418, 0.93871866, 0.89693593])"
          },
          "metadata": {}
        }
      ],
      "execution_count": 34
    },
    {
      "id": "b7ebf475-1a22-4a1f-8db8-4f0aea3d17e5",
      "cell_type": "code",
      "source": "cross_val_score(SVC(),digits.data,digits.target)",
      "metadata": {
        "trusted": true
      },
      "outputs": [
        {
          "execution_count": 35,
          "output_type": "execute_result",
          "data": {
            "text/plain": "array([0.96111111, 0.94444444, 0.98328691, 0.98885794, 0.93871866])"
          },
          "metadata": {}
        }
      ],
      "execution_count": 35
    },
    {
      "id": "9d25b668-d535-4f96-beda-1b23dbd66c2b",
      "cell_type": "code",
      "source": "cross_val_score(RandomForestClassifier(n_estimators=40),digits.data,digits.target)",
      "metadata": {
        "trusted": true
      },
      "outputs": [
        {
          "execution_count": 38,
          "output_type": "execute_result",
          "data": {
            "text/plain": "array([0.92777778, 0.91944444, 0.9637883 , 0.9637883 , 0.92479109])"
          },
          "metadata": {}
        }
      ],
      "execution_count": 38
    },
    {
      "id": "33bcf43b-c770-4a27-82a4-036997cf4121",
      "cell_type": "code",
      "source": "cross_val_score(RandomForestClassifier(n_estimators=15),digits.data,digits.target)",
      "metadata": {
        "trusted": true
      },
      "outputs": [
        {
          "execution_count": 40,
          "output_type": "execute_result",
          "data": {
            "text/plain": "array([0.91666667, 0.88611111, 0.94707521, 0.93593315, 0.89415042])"
          },
          "metadata": {}
        }
      ],
      "execution_count": 40
    },
    {
      "id": "94e41f8e-e3a8-4ea9-9ee2-fc9a0d6197d1",
      "cell_type": "markdown",
      "source": "KFold: Splits data into k folds, trains on k-1 folds, tests on 1 fold, repeats k times.\n\nStratifiedKFold: Similar to KFold, but maintains the target variable distribution across folds.\n\ncross_val_score: Simplifies cross-validation by automatically performing the splits and training the model, returning the scores.",
      "metadata": {}
    }
  ]
}